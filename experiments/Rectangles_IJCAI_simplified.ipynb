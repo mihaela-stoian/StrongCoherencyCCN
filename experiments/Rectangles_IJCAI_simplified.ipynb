{
 "cells": [
  {
   "cell_type": "code",
   "execution_count": 1,
   "metadata": {
    "ExecuteTime": {
     "end_time": "2024-02-06T00:51:30.793782107Z",
     "start_time": "2024-02-06T00:51:29.301726127Z"
    }
   },
   "outputs": [
    {
     "name": "stdout",
     "output_type": "stream",
     "text": [
      "cpu\n"
     ]
    },
    {
     "data": {
      "text/plain": "<torch._C.Generator at 0x7f2622e9cbd0>"
     },
     "execution_count": 1,
     "metadata": {},
     "output_type": "execute_result"
    }
   ],
   "source": [
    "import sys\n",
    "import time\n",
    "\n",
    "from pishield.constraint_layer import build_pishield_layer\n",
    "from pishield.propositional_constraints.constraints_layer import ConstraintsLayer\n",
    "from torch.utils.data import DataLoader\n",
    "\n",
    "from experiments.shapes import ShapeDataset\n",
    "\n",
    "sys.path.append('..')\n",
    "\n",
    "import torch\n",
    "from torch import nn\n",
    "import matplotlib.pyplot as plt\n",
    "from experiments.plotting import plotting_experiment_results_net\n",
    "\n",
    "from shapes import Rectangle\n",
    "from experiment import Experiment\n",
    "\n",
    "device = torch.device('cuda' if torch.cuda.is_available() else 'cpu')\n",
    "print(device)\n",
    "\n",
    "torch.manual_seed(2)"
   ]
  },
  {
   "cell_type": "markdown",
   "metadata": {},
   "source": [
    "### Define the shapes"
   ]
  },
  {
   "cell_type": "code",
   "execution_count": 2,
   "metadata": {
    "ExecuteTime": {
     "end_time": "2024-02-06T00:51:30.938369755Z",
     "start_time": "2024-02-06T00:51:30.790628028Z"
    }
   },
   "outputs": [
    {
     "data": {
      "text/plain": "<Figure size 640x480 with 2 Axes>",
      "image/png": "[encoded data removed]"
     },
     "metadata": {},
     "output_type": "display_data"
    }
   ],
   "source": [
    "rectangle0 = Rectangle(0.15, 0.6, 0.15, 0.5)\n",
    "rectangle1 = Rectangle(0.4, 0.8, 0.65, 0.85)\n",
    "combined = rectangle0 | rectangle1\n",
    "shapes = [rectangle0, combined]\n",
    "\n",
    "fig, ax = plt.subplots(1, len(shapes))\n",
    "ax[0].set_title(\"Class A\")\n",
    "ax[1].set_title(\"Class B\")\n",
    "ax[0].grid(alpha=0.2)\n",
    "ax[1].grid(alpha=0.2)\n",
    "\n",
    "for i, shape in enumerate(shapes):\n",
    "  shape.plot(ax[i], full=True, cmap='Greens')\n",
    "plt.show()\n",
    "\n",
    "constraints_path = '../constraints/rectangles'"
   ]
  },
  {
   "cell_type": "markdown",
   "metadata": {},
   "source": [
    "### Define the neural network"
   ]
  },
  {
   "cell_type": "code",
   "outputs": [
    {
     "name": "stdout",
     "output_type": "stream",
     "text": [
      "Using auto mode ::: Detected propositional constraints!\n",
      "[] [<pishield.propositional_constraints.constraint.Constraint object at 0x7f261d31be50>]\n",
      "head 1 with old rules 1\n",
      "head 1 with new rules 1\n",
      "Generated 1 strata of constraints with None centrality\n",
      "PiShield_NeuralNetwork(\n",
      "  (linear): Sequential(\n",
      "    (0): Linear(in_features=2, out_features=20, bias=True)\n",
      "    (1): Tanh()\n",
      "    (2): Linear(in_features=20, out_features=2, bias=True)\n",
      "    (3): Sigmoid()\n",
      "  )\n",
      "  (loss_fn): BCELoss()\n",
      "  (clayer): ConstraintsLayer(\n",
      "    (module_list): ModuleList(\n",
      "      (0): ConstraintsModule()\n",
      "    )\n",
      "  )\n",
      ")\n"
     ]
    }
   ],
   "source": [
    "class NeuralNetwork(nn.Module):\n",
    "    def __init__(self, shapes, points=2500, batch_size=2500, learning_rate=1e-1):\n",
    "        super(NeuralNetwork, self).__init__()\n",
    "        \n",
    "        self.linear = nn.Sequential(\n",
    "            nn.Linear(2, 20),\n",
    "            nn.Tanh(),\n",
    "            nn.Linear(20, 2),\n",
    "            nn.Sigmoid()\n",
    "        )\n",
    "        \n",
    "        self.prepare_dataloaders(shapes, points, batch_size)\n",
    "        self.optimizer = torch.optim.Adam(self.parameters(), lr = learning_rate, betas = (0.9, 0.999))\n",
    "        self.loss_fn = nn.BCELoss()\n",
    "\n",
    "    def prepare_dataloaders(self, shapes, points, batch_size):\n",
    "        train_data = ShapeDataset(shapes, points)\n",
    "        test_data = ShapeDataset(shapes, points)\n",
    "\n",
    "        self.train_dataloader = DataLoader(train_data, batch_size=batch_size)\n",
    "        self.test_dataloader = DataLoader(test_data, batch_size=batch_size)\n",
    "\n",
    "    def forward(self, input):\n",
    "        pred = self.linear(input)\n",
    "        return pred\n",
    "    \n",
    "    def run(self, epochs):\n",
    "        self.train()\n",
    "        for epoch in range(epochs):\n",
    "            for batch, (X, y) in enumerate(self.train_dataloader):\n",
    "    \n",
    "                # Compute prediction error\n",
    "                pred = self(X, goal=y)\n",
    "                loss = self.loss_fn(pred, y)\n",
    "    \n",
    "                # Backpropagation\n",
    "                self.optimizer.zero_grad()\n",
    "                loss.backward()\n",
    "                self.optimizer.step()\n",
    "    \n",
    "            if epoch % 100 == 0:\n",
    "                print(f\"Epoch {epoch}, loss: {loss.item():>7f} [{epoch:>5d}/{epochs:>5d}]\")\n",
    "\n",
    "    def save(self, dir='./models/'):\n",
    "        path = f\"{dir + 'rectangles'}-{int(time.time())}\"\n",
    "        torch.save(self, path + \".pth\")\n",
    "        print('Saved experiment at {path}'.format(path=path))\n",
    "        \n",
    "\n",
    "class PiShield_NeuralNetwork(NeuralNetwork):\n",
    "    def __init__(self, shapes, constraints_path, points=2500, batch_size=2500, learning_rate=1e-1):\n",
    "        super(PiShield_NeuralNetwork, self).__init__(shapes, points=points, batch_size=batch_size, learning_rate=learning_rate)\n",
    "        self.clayer = build_pishield_layer(len(shapes), constraints_path, ordering_choice=None)\n",
    "        \n",
    "    def forward(self, input, goal=None):\n",
    "        pred = self.linear(input)\n",
    "        corrected_x = self.clayer(pred, goal=goal)\n",
    "        return corrected_x\n",
    "    \n",
    "    def unconstrained_forward(self, input):\n",
    "        return super().forward(input)\n",
    "\n",
    "\n",
    "model = PiShield_NeuralNetwork(shapes, constraints_path)\n",
    "print(model)"
   ],
   "metadata": {
    "collapsed": false,
    "ExecuteTime": {
     "end_time": "2024-02-06T00:51:31.325581165Z",
     "start_time": "2024-02-06T00:51:30.938800623Z"
    }
   },
   "execution_count": 3
  },
  {
   "cell_type": "markdown",
   "metadata": {},
   "source": [
    "### Train and test the model"
   ]
  },
  {
   "cell_type": "code",
   "outputs": [
    {
     "name": "stdout",
     "output_type": "stream",
     "text": [
      "Epoch 0, loss: 0.689555 [    0/  400]\n",
      "Epoch 100, loss: 0.224294 [  100/  400]\n",
      "Epoch 200, loss: 0.110360 [  200/  400]\n",
      "Epoch 300, loss: 0.082923 [  300/  400]\n",
      "Saved experiment at ./models/rectangles-1707180702\n"
     ]
    }
   ],
   "source": [
    "model.run(400)\n",
    "model.save()\n",
    "plotting_experiment_results_net(model, model.clayer, rectangle0, rectangle1)\n",
    "plt.show()"
   ],
   "metadata": {
    "collapsed": false,
    "is_executing": true,
    "ExecuteTime": {
     "start_time": "2024-02-06T00:51:31.323447493Z"
    }
   },
   "execution_count": null
  },
  {
   "cell_type": "code",
   "execution_count": null,
   "metadata": {
    "is_executing": true
   },
   "outputs": [],
   "source": [
    "# Probably it would be good to have a \"violations counter\" (just to show that there are indeed no violations)\n",
    "# And maybe see when you are creating the video, but it might be good to split the top row from the bottom row\n",
    "# Also, I think you can train the network in real time, I tried with 20 neurons and 400 epochs and it trains almost instantly  "
   ]
  },
  {
   "cell_type": "code",
   "outputs": [],
   "source": [
    "model = torch.load('./models/rectangles-1707179045.pth')  # model trained for 5000 epochs\n",
    "plotting_experiment_results_net(model, model.clayer, rectangle0, rectangle1)\n",
    "plt.show()"
   ],
   "metadata": {
    "collapsed": false,
    "is_executing": true
   }
  }
 ],
 "metadata": {
  "interpreter": {
   "hash": "ec16a4d659f14a1b9693fdeec687e2573164f3801d1572af27cc2b00ae3d28b5"
  },
  "kernelspec": {
   "display_name": "Python 3.7.6 ('base')",
   "language": "python",
   "name": "python3"
  },
  "language_info": {
   "codemirror_mode": {
    "name": "ipython",
    "version": 3
   },
   "file_extension": ".py",
   "mimetype": "text/x-python",
   "name": "python",
   "nbconvert_exporter": "python",
   "pygments_lexer": "ipython3",
   "version": "3.9.7"
  }
 },
 "nbformat": 4,
 "nbformat_minor": 2
}
