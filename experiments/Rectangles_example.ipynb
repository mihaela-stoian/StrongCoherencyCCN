{
 "cells": [
  {
   "cell_type": "markdown",
   "metadata": {
    "collapsed": false
   },
   "source": [
    "# PiShield for learning shapes with requirements "
   ]
  },
  {
   "cell_type": "markdown",
   "metadata": {
    "collapsed": false
   },
   "source": [
    "**Problem**: Hierarchical Multi-label Classification problem, where the labels are organised in a hierarchical structure.\n",
    "\n",
    "**Example of a simple constraint from a functional genomics application**: \n",
    "if a protein belongs to the functional category bionsynthesis of glutamine, then it also belongs to amino acid metabolism functional category.\n",
    "\n",
    "Let Class A be *bionsynthesis of glutamine* and Class B be *amino acid metabolism*.\n",
    "Then the requirement can be written as: Class A &rarr; Class B. "
   ]
  },
  {
   "cell_type": "code",
   "execution_count": 1,
   "metadata": {
    "ExecuteTime": {
     "end_time": "2024-02-18T20:46:54.465179455Z",
     "start_time": "2024-02-18T20:46:53.121622872Z"
    }
   },
   "outputs": [
    {
     "data": {
      "text/plain": "<torch._C.Generator at 0x7f7b300857d0>"
     },
     "execution_count": 1,
     "metadata": {},
     "output_type": "execute_result"
    }
   ],
   "source": [
    "import sys\n",
    "import time\n",
    "from matplotlib.colors import ListedColormap\n",
    "sys.path.append('..')\n",
    "import torch\n",
    "from torch import nn\n",
    "from torch.utils.data import DataLoader\n",
    "\n",
    "import matplotlib as mpl\n",
    "import numpy as np\n",
    "import matplotlib.pyplot as plt\n",
    "from plotting import plotting_experiment_results_net\n",
    "from shapes import Rectangle, ShapeDataset\n",
    "\n",
    "from pishield.shield_layer import build_shield_layer\n",
    "\n",
    "device = torch.device('cuda' if torch.cuda.is_available() else 'cpu')\n",
    "torch.manual_seed(2)"
   ]
  },
  {
   "cell_type": "code",
   "outputs": [
    {
     "data": {
      "text/plain": "<Figure size 640x480 with 1 Axes>",
      "image/png": "[encoded data removed]"
     },
     "metadata": {},
     "output_type": "display_data"
    }
   ],
   "source": [
    "rectangle0 = Rectangle(0.15, 0.6, 0.15, 0.5)\n",
    "rectangle1 = Rectangle(0.4, 0.8, 0.65, 0.85)\n",
    "shapes = [rectangle0, rectangle1]\n",
    "\n",
    "fig, ax = plt.subplots(1, 1)\n",
    "ax.grid(alpha=0.2)\n",
    "\n",
    "rgb = mpl.colormaps['seismic_r'](np.linspace(0.0, 1.0, 100))[np.newaxis, :, :3]\n",
    "for i, shape in enumerate(shapes):\n",
    "  shape.plot(ax, full=True, cmap=ListedColormap(rgb[0][-10:-9]))\n",
    "  ax.annotate(f'R{i}', [z-0.029 for z in shape.get_left_low_corner()])\n",
    "plt.show()"
   ],
   "metadata": {
    "collapsed": false,
    "ExecuteTime": {
     "end_time": "2024-02-18T20:46:54.646823946Z",
     "start_time": "2024-02-18T20:46:54.470678788Z"
    }
   },
   "execution_count": 2
  },
  {
   "cell_type": "markdown",
   "source": [
    "## Task Description\n",
    "This notebook shows how to use [PiShield](https://github.com/mihaela-stoian/PiShield) for a hierarchical multi-label classification problem, where two rectangles R0 and R1 are used to define two different classes:\n",
    "  - Class A is R0,\n",
    "   - Class B is the union of R0 and R1.\n",
    "\n",
    "**Task**: train a neural network to classify each point in a 1-by-1 grid by their position such that if they fall into rectangle R0, they are assigned both class A and class B, and if they fall into rectangle R1 here, they should be assigned class B.\n",
    "     \n",
    "**Training Data**: 2500 points, identified by their (x,y) coordinates, and their associated sets of classes.\n",
    "\n",
    "**Requirement**: Class A &rarr; Class B. "
   ],
   "metadata": {
    "collapsed": false
   }
  },
  {
   "cell_type": "code",
   "execution_count": 3,
   "metadata": {
    "ExecuteTime": {
     "end_time": "2024-02-18T20:46:54.826676009Z",
     "start_time": "2024-02-18T20:46:54.654469561Z"
    }
   },
   "outputs": [
    {
     "data": {
      "text/plain": "<Figure size 640x480 with 2 Axes>",
      "image/png": "[encoded data removed]"
     },
     "metadata": {},
     "output_type": "display_data"
    }
   ],
   "source": [
    "combined = rectangle0 | rectangle1\n",
    "shapes = [rectangle0, combined]\n",
    "\n",
    "fig, ax = plt.subplots(1, len(shapes))\n",
    "ax[0].set_title(\"Class A\")\n",
    "ax[1].set_title(\"Class B\")\n",
    "ax[0].grid(alpha=0.2)\n",
    "ax[1].grid(alpha=0.2)\n",
    "\n",
    "rgb = mpl.colormaps['seismic_r'](np.linspace(0.0, 1.0, 100))[np.newaxis, :, :3]\n",
    "for i, shape in enumerate(shapes):\n",
    "  shape.plot(ax[i], full=True, cmap=ListedColormap(rgb[0][-10:-9]))\n",
    "c1 = rgb[0][8]\n",
    "ax[0].set_facecolor(c1)\n",
    "ax[1].set_facecolor(c1)\n",
    "plt.show()"
   ]
  },
  {
   "cell_type": "markdown",
   "metadata": {},
   "source": [
    "## Define the requirements\n",
    "\n",
    "If the classes are ordered as (Class A, Class B), and if the requirement is Class A &rarr; Class B, then it can be expressed in conjunctive normal form as follows, to be recognised by PiShield:\n",
    "\n",
    "not y_0 or y_1"
   ]
  },
  {
   "cell_type": "code",
   "execution_count": 4,
   "metadata": {
    "ExecuteTime": {
     "end_time": "2024-02-18T20:46:55.051830276Z",
     "start_time": "2024-02-18T20:46:54.829944289Z"
    }
   },
   "outputs": [
    {
     "name": "stdout",
     "output_type": "stream",
     "text": [
      "not y_0 or y_1"
     ]
    }
   ],
   "source": [
    "requirements_path = '../constraints/rectangles'\n",
    "\n",
    "! cat $requirements_path"
   ]
  },
  {
   "cell_type": "markdown",
   "metadata": {},
   "source": [
    "## Define the neural network"
   ]
  },
  {
   "cell_type": "code",
   "execution_count": 5,
   "metadata": {
    "collapsed": false,
    "ExecuteTime": {
     "end_time": "2024-02-18T20:46:55.067905546Z",
     "start_time": "2024-02-18T20:46:55.063443089Z"
    }
   },
   "outputs": [],
   "source": [
    "class PiShield_NeuralNetwork(torch.nn.Module):\n",
    "    def __init__(self, shapes, requirements_path, points=2500, batch_size=2500, learning_rate=1e-1, hidden_dim=20):\n",
    "        super(PiShield_NeuralNetwork, self).__init__()\n",
    "\n",
    "        self.linear = nn.Sequential(\n",
    "            nn.Linear(2, hidden_dim),\n",
    "            nn.Tanh(),\n",
    "            nn.Linear(hidden_dim, 2),\n",
    "            nn.Sigmoid()\n",
    "        )\n",
    "        \n",
    "        self.prepare_dataloaders(shapes, points, batch_size)\n",
    "        self.loss_fn = nn.BCELoss()\n",
    "        self.optimizer = torch.optim.Adam(self.parameters(), lr = learning_rate, betas = (0.9, 0.999))\n",
    "        \n",
    "        self.clayer = build_shield_layer(len(shapes), requirements_path, ordering_choice=None)\n",
    "        \n",
    "    def prepare_dataloaders(self, shapes, points, batch_size):\n",
    "        train_data = ShapeDataset(shapes, points)\n",
    "        test_data = ShapeDataset(shapes, points)\n",
    "        self.train_dataloader = DataLoader(train_data, batch_size=batch_size)\n",
    "        self.test_dataloader = DataLoader(test_data, batch_size=batch_size)\n",
    "        \n",
    "        \n",
    "    def get_unconstrained_output(self, input):\n",
    "        pred = self.linear(input)\n",
    "        return pred\n",
    "    \n",
    "    def forward(self, input, goal=None):\n",
    "        pred = self.linear(input)\n",
    "        corrected_x = self.clayer(pred, goal=goal)\n",
    "        return corrected_x\n",
    "\n",
    "    def run(self, epochs):\n",
    "        self.train()\n",
    "        for epoch in range(epochs):\n",
    "            for batch, (X, y) in enumerate(self.train_dataloader):\n",
    "    \n",
    "                # Compute prediction error\n",
    "                pred = self(X, goal=y)\n",
    "                loss = self.loss_fn(pred, y)\n",
    "    \n",
    "                # Backpropagation\n",
    "                self.optimizer.zero_grad()\n",
    "                loss.backward()\n",
    "                self.optimizer.step()\n",
    "    \n",
    "            if epoch % 100 == 0:\n",
    "                print(f\"Epoch {epoch}, loss: {loss.item():>7f} [{epoch:>5d}/{epochs:>5d}]\")\n",
    "\n",
    "    def save(self, dir='./models/'):\n",
    "        path = f\"{dir + 'rectangles'}-{int(time.time())}\"\n",
    "        torch.save(self, path + \".pth\")\n",
    "        print('Saved experiment at {path}'.format(path=path))"
   ]
  },
  {
   "cell_type": "markdown",
   "metadata": {},
   "source": [
    "## Train and test the model"
   ]
  },
  {
   "cell_type": "code",
   "execution_count": null,
   "metadata": {
    "collapsed": false,
    "is_executing": true,
    "ExecuteTime": {
     "start_time": "2024-02-18T20:46:55.067407914Z"
    }
   },
   "outputs": [
    {
     "name": "stdout",
     "output_type": "stream",
     "text": [
      "Using auto mode ::: Detected propositional requirements!\n",
      "[] [<pishield.propositional_requirements.constraint.Constraint object at 0x7f7b0dabcc90>]\n",
      "head 1 with old rules 1\n",
      "head 1 with new rules 1\n",
      "Generated 1 strata of constraints with None centrality\n",
      "Epoch 0, loss: 0.689555 [    0/  400]\n",
      "Epoch 100, loss: 0.224294 [  100/  400]\n"
     ]
    }
   ],
   "source": [
    "model = PiShield_NeuralNetwork(shapes, requirements_path)\n",
    "model.run(epochs=400)\n",
    "model.save()\n",
    "plotting_experiment_results_net(model, model.clayer, rectangle0, rectangle1)\n",
    "plt.show()"
   ]
  },
  {
   "cell_type": "raw",
   "metadata": {
    "collapsed": false
   },
   "source": []
  },
  {
   "cell_type": "code",
   "execution_count": null,
   "metadata": {
    "collapsed": false,
    "is_executing": true
   },
   "outputs": [],
   "source": [
    "model = torch.load('./models/rectangles-1707355817.pth')  # model trained for 5000 epochs\n",
    "plotting_experiment_results_net(model, model.clayer, rectangle0, rectangle1)\n",
    "plt.show()"
   ]
  }
 ],
 "metadata": {
  "interpreter": {
   "hash": "ec16a4d659f14a1b9693fdeec687e2573164f3801d1572af27cc2b00ae3d28b5"
  },
  "kernelspec": {
   "display_name": "Python 3 (ipykernel)",
   "language": "python",
   "name": "python3"
  },
  "language_info": {
   "codemirror_mode": {
    "name": "ipython",
    "version": 3
   },
   "file_extension": ".py",
   "mimetype": "text/x-python",
   "name": "python",
   "nbconvert_exporter": "python",
   "pygments_lexer": "ipython3",
   "version": "3.11.7"
  }
 },
 "nbformat": 4,
 "nbformat_minor": 4
}
