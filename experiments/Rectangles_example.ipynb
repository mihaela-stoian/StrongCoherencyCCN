{
 "cells": [
  {
   "cell_type": "markdown",
   "metadata": {
    "collapsed": false
   },
   "source": [
    "# PiShield for learning shapes with requirements "
   ]
  },
  {
   "cell_type": "markdown",
   "metadata": {
    "collapsed": false
   },
   "source": [
    "**Problem**: Hierarchical Multi-label Classification problem, where the labels are organised in a hierarchical structure, which can be captured as propositional logic requirements."
   ]
  },
  {
   "cell_type": "code",
   "execution_count": 1,
   "metadata": {
    "ExecuteTime": {
     "end_time": "2024-02-18T22:05:49.609284100Z",
     "start_time": "2024-02-18T22:05:48.259147450Z"
    }
   },
   "outputs": [
    {
     "data": {
      "text/plain": "<torch._C.Generator at 0x7f6fa3769810>"
     },
     "execution_count": 1,
     "metadata": {},
     "output_type": "execute_result"
    }
   ],
   "source": [
    "import sys\n",
    "import time\n",
    "from matplotlib.colors import ListedColormap\n",
    "sys.path.append('..')\n",
    "import torch\n",
    "from torch import nn\n",
    "from torch.utils.data import DataLoader\n",
    "\n",
    "import matplotlib as mpl\n",
    "import numpy as np\n",
    "import matplotlib.pyplot as plt\n",
    "from plotting import plotting_experiment_results_net\n",
    "from shapes import Rectangle, ShapeDataset\n",
    "\n",
    "from pishield.shield_layer import build_shield_layer\n",
    "\n",
    "device = torch.device('cuda' if torch.cuda.is_available() else 'cpu')\n",
    "torch.manual_seed(2)"
   ]
  },
  {
   "cell_type": "code",
   "execution_count": 2,
   "metadata": {
    "collapsed": false,
    "ExecuteTime": {
     "end_time": "2024-02-18T22:05:49.609965184Z",
     "start_time": "2024-02-18T22:05:49.599212217Z"
    }
   },
   "outputs": [],
   "source": [
    "rectangle0 = Rectangle(0.15, 0.6, 0.15, 0.5)\n",
    "rectangle1 = Rectangle(0.4, 0.8, 0.65, 0.85)\n",
    "shapes = [rectangle0, rectangle1]\n",
    "\n",
    "# fig, ax = plt.subplots(1, 1)\n",
    "# ax.grid(alpha=0.2)\n",
    "\n",
    "# rgb = mpl.colormaps['seismic_r'](np.linspace(0.0, 1.0, 100))[np.newaxis, :, :3]\n",
    "# for i, shape in enumerate(shapes):\n",
    "#   shape.plot(ax, full=True, cmap=ListedColormap(rgb[0][-10:-9]))\n",
    "#   ax.annotate(f'R{i}', [z-0.029 for z in shape.get_left_low_corner()])\n",
    "# plt.show()"
   ]
  },
  {
   "cell_type": "markdown",
   "source": [
    "**Requirement example from a functional genomics application**:\n",
    "if a protein belongs to the functional category bionsynthesis of glutamine, then it also belongs to amino acid metabolism category."
   ],
   "metadata": {
    "collapsed": false
   }
  },
  {
   "cell_type": "markdown",
   "metadata": {
    "collapsed": false
   },
   "source": [
    "## Task Description\n",
    "\n",
    "This notebook shows how to use [PiShield](https://github.com/mihaela-stoian/PiShield) for a **hierarchical multi-label** classification problem, where two rectangles R0 and R1 (lying inside a 1-by-1 grid) are used to define two different classes:\n",
    "  - Class A contains points in R0,\n",
    "   - Class B contains points in the union of R0 and R1.\n",
    "\n",
    "**Requirement**: Class A &rarr; Class B. \n",
    "\n",
    "**Task**: train a neural network to classify each point by its position such that if **it is assigned class A, it will also be assigned class B**!\n",
    "     \n",
    "**Training Data**: 2500 points, identified by their (x,y) coordinates, and their associated sets of classes.\n"
   ]
  },
  {
   "cell_type": "code",
   "execution_count": 3,
   "metadata": {
    "ExecuteTime": {
     "end_time": "2024-02-18T22:05:49.807541795Z",
     "start_time": "2024-02-18T22:05:49.599499054Z"
    }
   },
   "outputs": [
    {
     "data": {
      "text/plain": "<Figure size 640x480 with 2 Axes>",
      "image/png": "[encoded data removed]"
     },
     "metadata": {},
     "output_type": "display_data"
    }
   ],
   "source": [
    "combined = rectangle0 | rectangle1\n",
    "shapes = [rectangle0, combined]\n",
    "fig, ax = plt.subplots(1, len(shapes))\n",
    "ax[0].set_title(\"Class A\"); ax[1].set_title(\"Class B\")\n",
    "ax[0].grid(alpha=0.2); ax[1].grid(alpha=0.2)\n",
    "rgb = mpl.colormaps['seismic_r'](np.linspace(0.0, 1.0, 100))[np.newaxis, :, :3]\n",
    "for i, shape in enumerate(shapes):\n",
    "  shape.plot(ax[i], full=True, cmap=ListedColormap(rgb[0][-10:-9]))\n",
    "ct=0.05\n",
    "ax[0].annotate(f'R0', [z-ct for z in rectangle0.get_left_low_corner()])\n",
    "ax[1].annotate(f'R0', [z-ct for z in rectangle0.get_left_low_corner()])\n",
    "ax[1].annotate(f'R1', [z-ct for z in rectangle1.get_left_low_corner()])\n",
    "c1 = rgb[0][8]\n",
    "ax[0].set_facecolor(c1); ax[1].set_facecolor(c1); plt.show()"
   ]
  },
  {
   "cell_type": "markdown",
   "metadata": {},
   "source": [
    "## Define the requirements\n",
    "\n",
    "If the classes are ordered as (Class A, Class B), then the requirement Class A &rarr; Class B can be written as follows to be recognised by PiShield:\n",
    "\n",
    "not y_0 or y_1\n"
   ]
  },
  {
   "cell_type": "code",
   "execution_count": 4,
   "metadata": {
    "ExecuteTime": {
     "end_time": "2024-02-18T22:05:50.054121737Z",
     "start_time": "2024-02-18T22:05:49.810473556Z"
    }
   },
   "outputs": [
    {
     "name": "stdout",
     "output_type": "stream",
     "text": [
      "not y_0 or y_1"
     ]
    }
   ],
   "source": [
    "requirements_path = '../constraints/rectangles'\n",
    "\n",
    "! cat $requirements_path"
   ]
  },
  {
   "cell_type": "markdown",
   "metadata": {},
   "source": [
    "## Define the neural network"
   ]
  },
  {
   "cell_type": "code",
   "execution_count": 5,
   "metadata": {
    "collapsed": false,
    "ExecuteTime": {
     "end_time": "2024-02-18T22:05:50.077319757Z",
     "start_time": "2024-02-18T22:05:50.068228495Z"
    }
   },
   "outputs": [],
   "source": [
    "class PiShield_NeuralNetwork(torch.nn.Module):\n",
    "    def __init__(self, shapes, requirements_path, output_dim=2, points=2500, batch_size=2500, learning_rate=1e-1, hidden_dim=20):\n",
    "        super(PiShield_NeuralNetwork, self).__init__()\n",
    "\n",
    "        self.linear = nn.Sequential(\n",
    "            nn.Linear(2, hidden_dim),\n",
    "            nn.Tanh(),\n",
    "            nn.Linear(hidden_dim, output_dim),\n",
    "            nn.Sigmoid()\n",
    "        )\n",
    "        \n",
    "        self.prepare_dataloaders(shapes, points, batch_size)\n",
    "        self.loss_fn = nn.BCELoss()\n",
    "        self.optimizer = torch.optim.Adam(self.parameters(), lr = learning_rate, betas = (0.9, 0.999))\n",
    "        \n",
    "        self.clayer = build_shield_layer(output_dim, requirements_path, ordering_choice=None)\n",
    "        \n",
    "    def prepare_dataloaders(self, shapes, points, batch_size):\n",
    "        train_data = ShapeDataset(shapes, points)\n",
    "        test_data = ShapeDataset(shapes, points)\n",
    "        self.train_dataloader = DataLoader(train_data, batch_size=batch_size)\n",
    "        self.test_dataloader = DataLoader(test_data, batch_size=batch_size)\n",
    "        \n",
    "        \n",
    "    def get_unconstrained_output(self, input):\n",
    "        pred = self.linear(input)\n",
    "        return pred\n",
    "    \n",
    "    def forward(self, input, goal=None):\n",
    "        pred = self.linear(input)\n",
    "        corrected_x = self.clayer(pred, goal=goal)\n",
    "        return corrected_x\n",
    "\n",
    "    def run(self, epochs):\n",
    "        self.train()\n",
    "        for epoch in range(epochs):\n",
    "            for batch, (X, y) in enumerate(self.train_dataloader):\n",
    "    \n",
    "                # Compute prediction error\n",
    "                pred = self(X, goal=y)\n",
    "                loss = self.loss_fn(pred, y)\n",
    "    \n",
    "                # Backpropagation\n",
    "                self.optimizer.zero_grad()\n",
    "                loss.backward()\n",
    "                self.optimizer.step()\n",
    "    \n",
    "            if epoch % 100 == 0:\n",
    "                print(f\"Epoch {epoch}, loss: {loss.item():>7f} [{epoch:>5d}/{epochs:>5d}]\")\n",
    "\n",
    "    def save(self, dir='./models/'):\n",
    "        path = f\"{dir + 'rectangles'}-{int(time.time())}\"\n",
    "        torch.save(self, path + \".pth\")\n",
    "        print('Saved experiment at {path}'.format(path=path))"
   ]
  },
  {
   "cell_type": "markdown",
   "metadata": {},
   "source": [
    "## Train and test the model"
   ]
  },
  {
   "cell_type": "code",
   "execution_count": null,
   "metadata": {
    "collapsed": false,
    "is_executing": true,
    "ExecuteTime": {
     "start_time": "2024-02-18T22:05:50.072780641Z"
    }
   },
   "outputs": [
    {
     "name": "stdout",
     "output_type": "stream",
     "text": [
      "Using auto mode ::: Detected propositional requirements!\n",
      "[] [<pishield.propositional_requirements.constraint.Constraint object at 0x7f6f9f4db110>]\n",
      "head 1 with old rules 1\n",
      "head 1 with new rules 1\n",
      "Generated 1 strata of constraints with None centrality\n",
      "Epoch 0, loss: 0.689555 [    0/  400]\n",
      "Epoch 100, loss: 0.224294 [  100/  400]\n",
      "Epoch 200, loss: 0.110360 [  200/  400]\n"
     ]
    }
   ],
   "source": [
    "model = PiShield_NeuralNetwork(shapes, requirements_path)\n",
    "model.run(epochs=400)\n",
    "model.save()\n",
    "plotting_experiment_results_net(model, model.clayer, rectangle0, rectangle1)\n",
    "plt.show()"
   ]
  },
  {
   "cell_type": "raw",
   "metadata": {
    "collapsed": false
   },
   "source": []
  },
  {
   "cell_type": "code",
   "execution_count": null,
   "metadata": {
    "collapsed": false,
    "is_executing": true
   },
   "outputs": [],
   "source": [
    "model = torch.load('./models/rectangles-1707355817.pth')  # model trained for 5000 epochs\n",
    "plotting_experiment_results_net(model, model.clayer, rectangle0, rectangle1)\n",
    "plt.show()"
   ]
  }
 ],
 "metadata": {
  "interpreter": {
   "hash": "ec16a4d659f14a1b9693fdeec687e2573164f3801d1572af27cc2b00ae3d28b5"
  },
  "kernelspec": {
   "display_name": "Python 3 (ipykernel)",
   "language": "python",
   "name": "python3"
  },
  "language_info": {
   "codemirror_mode": {
    "name": "ipython",
    "version": 3
   },
   "file_extension": ".py",
   "mimetype": "text/x-python",
   "name": "python",
   "nbconvert_exporter": "python",
   "pygments_lexer": "ipython3",
   "version": "3.11.7"
  }
 },
 "nbformat": 4,
 "nbformat_minor": 4
}
