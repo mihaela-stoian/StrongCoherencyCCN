{
 "cells": [
  {
   "cell_type": "code",
   "execution_count": 1,
   "metadata": {
    "ExecuteTime": {
     "end_time": "2024-01-21T12:08:04.482942245Z",
     "start_time": "2024-01-21T12:08:03.050950168Z"
    }
   },
   "outputs": [
    {
     "name": "stdout",
     "output_type": "stream",
     "text": [
      "cpu\n"
     ]
    }
   ],
   "source": [
    "import matplotlib.pyplot as plt\n",
    "import numpy as np\n",
    "import torch\n",
    "from pishield.propositional_constraints.clause import Clause\n",
    "from pishield.propositional_constraints.clauses_group import ClausesGroup\n",
    "from torch import nn\n",
    "\n",
    "from experiment import Experiment\n",
    "from shapes import HalfPlane, Circle\n",
    "\n",
    "device = torch.device('cuda' if torch.cuda.is_available() else 'cpu')\n",
    "print(device)"
   ]
  },
  {
   "cell_type": "markdown",
   "metadata": {},
   "source": [
    "### Define the shapes"
   ]
  },
  {
   "cell_type": "code",
   "execution_count": 2,
   "metadata": {
    "ExecuteTime": {
     "end_time": "2024-01-21T12:08:04.661896746Z",
     "start_time": "2024-01-21T12:08:04.478033829Z"
    }
   },
   "outputs": [
    {
     "data": {
      "text/plain": "<Figure size 640x480 with 3 Axes>",
      "image/png": "[encoded data removed]"
     },
     "metadata": {},
     "output_type": "display_data"
    },
    {
     "name": "stdout",
     "output_type": "stream",
     "text": [
      "[<cloverd.propositional_constraints.constraint.Constraint object at 0x7f64828ddf10>, <cloverd.propositional_constraints.constraint.Constraint object at 0x7f64828dda50>] [<cloverd.propositional_constraints.constraint.Constraint object at 0x7f6496c19610>]\n",
      "head 1 with old rules 1\n",
      "head 1 with new rules 1\n",
      "head n1 with old rules 2\n",
      "head n1 with new rules 3\n",
      "[<cloverd.propositional_constraints.constraint.Constraint object at 0x7f64828ef110>] [<cloverd.propositional_constraints.constraint.Constraint object at 0x7f64828ef050>]\n",
      "head 2 with old rules 1\n",
      "head 2 with new rules 1\n",
      "head n2 with old rules 1\n",
      "head n2 with new rules 2\n",
      "[<cloverd.propositional_constraints.constraint.Constraint object at 0x7f64828ef710>] []\n",
      "head n0 with old rules 1\n",
      "head n0 with new rules 1\n"
     ]
    }
   ],
   "source": [
    "H0 = HalfPlane(1, 0, -0.6)\n",
    "H1 = HalfPlane(-1, 0, 0.4) \n",
    "C = Circle(0.5, 0.5, 0.20)\n",
    "shapes = [H0 & -C, C, H1 & -C]\n",
    "\n",
    "fig, ax = plt.subplots(1, len(shapes))\n",
    "for i, shape in enumerate(shapes):\n",
    "  shape.plot(ax[i], full=True)\n",
    "plt.show()\n",
    "\n",
    "\n",
    "clauses = ClausesGroup([Clause('n0 n1'), Clause('n1 n2'), Clause('0 1 2')])\n",
    "constraints1 = clauses.stratify('katz')\n",
    "constraints2 = clauses.stratify('rev-katz')"
   ]
  },
  {
   "cell_type": "code",
   "execution_count": 3,
   "metadata": {
    "ExecuteTime": {
     "end_time": "2024-01-21T12:08:04.949788274Z",
     "start_time": "2024-01-21T12:08:04.661114371Z"
    }
   },
   "outputs": [
    {
     "name": "stdout",
     "output_type": "stream",
     "text": [
      "cpu\n"
     ]
    },
    {
     "data": {
      "text/plain": "<Figure size 640x480 with 3 Axes>",
      "image/png": "[encoded data removed]"
     },
     "metadata": {},
     "output_type": "display_data"
    },
    {
     "name": "stdout",
     "output_type": "stream",
     "text": [
      "[<cloverd.propositional_constraints.constraint.Constraint object at 0x7f64822d5e50>, <cloverd.propositional_constraints.constraint.Constraint object at 0x7f64822d4e10>] [<cloverd.propositional_constraints.constraint.Constraint object at 0x7f6496c194d0>]\n",
      "head 1 with old rules 1\n",
      "head 1 with new rules 1\n",
      "head n1 with old rules 2\n",
      "head n1 with new rules 3\n",
      "[<cloverd.propositional_constraints.constraint.Constraint object at 0x7f6497088050>] [<cloverd.propositional_constraints.constraint.Constraint object at 0x7f6497088d50>]\n",
      "head 2 with old rules 1\n",
      "head 2 with new rules 1\n",
      "head n2 with old rules 1\n",
      "head n2 with new rules 2\n",
      "[<cloverd.propositional_constraints.constraint.Constraint object at 0x7f64822cc050>] []\n",
      "head n0 with old rules 1\n",
      "head n0 with new rules 1\n",
      "NeuralNetwork(\n",
      "  (linear): Sequential(\n",
      "    (0): Linear(in_features=2, out_features=3, bias=True)\n",
      "    (1): Tanh()\n",
      "    (2): Linear(in_features=3, out_features=3, bias=True)\n",
      "    (3): Sigmoid()\n",
      "  )\n",
      ")\n",
      "[ 92265  95890 100000]\n"
     ]
    }
   ],
   "source": [
    "model = torch.load('./models/midcircle-unconstained-6.4456e-05-1652226558.pth')\n",
    "init = torch.rand(100000, 2)\n",
    "preds = model(init).detach()\n",
    "coherency = clauses.coherent_with(preds)\n",
    "print(np.sum(coherency, axis=0))"
   ]
  },
  {
   "cell_type": "markdown",
   "metadata": {},
   "source": [
    "### Define the neural network"
   ]
  },
  {
   "cell_type": "code",
   "execution_count": 4,
   "metadata": {
    "ExecuteTime": {
     "end_time": "2024-01-21T12:08:04.990508387Z",
     "start_time": "2024-01-21T12:08:04.947195615Z"
    }
   },
   "outputs": [
    {
     "name": "stdout",
     "output_type": "stream",
     "text": [
      "NeuralNetwork(\n",
      "  (linear): Sequential(\n",
      "    (0): Linear(in_features=2, out_features=4, bias=True)\n",
      "    (1): Tanh()\n",
      "    (2): Linear(in_features=4, out_features=3, bias=True)\n",
      "    (3): Sigmoid()\n",
      "  )\n",
      ")\n"
     ]
    }
   ],
   "source": [
    "class NeuralNetwork(nn.Module):\n",
    "    def __init__(self):\n",
    "        super(NeuralNetwork, self).__init__()\n",
    "        self.linear = nn.Sequential(\n",
    "            nn.Linear(2, 4),\n",
    "            nn.Tanh(),\n",
    "            nn.Linear(4, 3),\n",
    "            nn.Sigmoid()\n",
    "        )\n",
    "\n",
    "    def forward(self, x):\n",
    "        x = self.linear(x)\n",
    "        return x\n",
    "\n",
    "model = NeuralNetwork()\n",
    "print(model)"
   ]
  },
  {
   "cell_type": "markdown",
   "metadata": {},
   "source": [
    "### Train and test the model"
   ]
  },
  {
   "cell_type": "code",
   "execution_count": null,
   "metadata": {
    "is_executing": true,
    "ExecuteTime": {
     "start_time": "2024-01-21T12:08:04.990141527Z"
    }
   },
   "outputs": [
    {
     "name": "stdout",
     "output_type": "stream",
     "text": [
      "Epoch 1, Ratio 1.0\n",
      "-----------------------\n",
      "Created slicer for 1 modules (atoms {0, 1, 2})\n",
      "loss: 0.702584 [    0/ 2500]\n",
      "Test Error: \n",
      " Accuracy: 51.6%, 87.1%, 50.1%\n",
      " Avg loss: 0.000266 \n",
      "Epoch 2, Ratio 1.0\n",
      "-----------------------\n",
      "Created slicer for 1 modules (atoms {0, 1, 2})\n",
      "loss: 0.698260 [    0/ 2500]\n",
      "Test Error: \n",
      " Accuracy: 51.6%, 87.1%, 50.1%\n",
      " Avg loss: 0.000266 \n",
      "\n",
      "Epoch 3, Ratio 1.0\n",
      "-----------------------\n",
      "Created slicer for 1 modules (atoms {0, 1, 2})\n",
      "loss: 0.694315 [    0/ 2500]\n",
      "Test Error: \n",
      " Accuracy: 51.6%, 87.1%, 50.1%\n",
      " Avg loss: 0.000265 \n",
      "\n",
      "Epoch 4, Ratio 1.0\n",
      "-----------------------\n",
      "Created slicer for 1 modules (atoms {0, 1, 2})\n",
      "loss: 0.690724 [    0/ 2500]\n",
      "Test Error: \n",
      " Accuracy: 52.4%, 87.1%, 50.1%\n",
      " Avg loss: 0.000264 \n",
      "\n",
      "Epoch 5, Ratio 1.0\n",
      "-----------------------\n",
      "Created slicer for 1 modules (atoms {0, 1, 2})\n",
      "loss: 0.687433 [    0/ 2500]\n",
      "Test Error: \n",
      " Accuracy: 55.2%, 87.1%, 50.1%\n",
      " Avg loss: 0.000264 \n",
      "\n",
      "Epoch 6, Ratio 1.0\n",
      "-----------------------\n",
      "Created slicer for 1 modules (atoms {0, 1, 2})\n",
      "loss: 0.684414 [    0/ 2500]\n",
      "Test Error: \n",
      " Accuracy: 48.6%, 87.1%, 50.1%\n",
      " Avg loss: 0.000263 \n",
      "\n",
      "Epoch 7, Ratio 1.0\n",
      "-----------------------\n",
      "Created slicer for 1 modules (atoms {0, 1, 2})\n",
      "loss: 0.681610 [    0/ 2500]\n",
      "Test Error: \n",
      " Accuracy: 36.8%, 87.1%, 50.1%\n",
      " Avg loss: 0.000263 \n",
      "\n",
      "Epoch 8, Ratio 1.0\n",
      "-----------------------\n",
      "Created slicer for 1 modules (atoms {0, 1, 2})\n",
      "loss: 0.678983 [    0/ 2500]\n",
      "Test Error: \n",
      " Accuracy: 40.2%, 87.1%, 50.1%\n",
      " Avg loss: 0.000262 \n",
      "\n",
      "Epoch 9, Ratio 1.0\n",
      "-----------------------\n",
      "Created slicer for 1 modules (atoms {0, 1, 2})\n",
      "loss: 0.676506 [    0/ 2500]\n",
      "Test Error: \n",
      " Accuracy: 48.4%, 87.1%, 50.1%\n",
      " Avg loss: 0.000262 \n",
      "\n",
      "Epoch 10, Ratio 1.0\n",
      "-----------------------\n",
      "Created slicer for 1 modules (atoms {0, 1, 2})\n",
      "loss: 0.674164 [    0/ 2500]\n",
      "Test Error: \n",
      " Accuracy: 48.4%, 87.1%, 50.1%\n",
      " Avg loss: 0.000262 \n",
      "\n",
      "Done!\n"
     ]
    }
   ],
   "source": [
    "experiment = Experiment('midcircle', model, shapes, constraints1)\n",
    "experiment.run(10, device='cpu')\n",
    "experiment.save(dir='./models/')"
   ]
  },
  {
   "cell_type": "code",
   "execution_count": null,
   "metadata": {
    "is_executing": true
   },
   "outputs": [],
   "source": []
  }
 ],
 "metadata": {
  "interpreter": {
   "hash": "ec16a4d659f14a1b9693fdeec687e2573164f3801d1572af27cc2b00ae3d28b5"
  },
  "kernelspec": {
   "display_name": "Python 3.7.6 ('base')",
   "language": "python",
   "name": "python3"
  },
  "language_info": {
   "codemirror_mode": {
    "name": "ipython",
    "version": 3
   },
   "file_extension": ".py",
   "mimetype": "text/x-python",
   "name": "python",
   "nbconvert_exporter": "python",
   "pygments_lexer": "ipython3",
   "version": "3.7.6"
  }
 },
 "nbformat": 4,
 "nbformat_minor": 2
}
